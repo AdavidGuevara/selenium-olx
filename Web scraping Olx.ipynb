{
 "cells": [
  {
   "cell_type": "markdown",
   "id": "6eba45cb",
   "metadata": {},
   "source": [
    "# Web scraping a Olx (Vehivulos Chevrolet)"
   ]
  },
  {
   "cell_type": "code",
   "execution_count": 1,
   "id": "94bfa7fb",
   "metadata": {},
   "outputs": [],
   "source": [
    "# Importacion de las librerias que seran usadas:\n",
    "from selenium import webdriver\n",
    "from selenium.webdriver.common.keys import Keys\n",
    "from selenium.webdriver.common.by import By\n",
    "import time\n",
    "import random\n",
    "import pandas as pd\n",
    "from vehiculo import Vehiculo\n",
    "from datetime import datetime"
   ]
  },
  {
   "cell_type": "markdown",
   "id": "06686312",
   "metadata": {},
   "source": [
    "### 1. Instancia del driver:"
   ]
  },
  {
   "cell_type": "code",
   "execution_count": 16,
   "id": "c3f5227c",
   "metadata": {},
   "outputs": [
    {
     "name": "stderr",
     "output_type": "stream",
     "text": [
      "C:\\Users\\Adavid\\AppData\\Local\\Temp\\ipykernel_14188\\594931239.py:1: DeprecationWarning: executable_path has been deprecated, please pass in a Service object\n",
      "  driver = webdriver.Chrome(\"./chromedriver.exe\")\n"
     ]
    }
   ],
   "source": [
    "driver = webdriver.Chrome(\"./chromedriver.exe\")\n",
    "driver.get(\"https://www.olx.com.co/\")"
   ]
  },
  {
   "cell_type": "markdown",
   "id": "521f5c81",
   "metadata": {},
   "source": [
    "### 2. Configuracion del input:"
   ]
  },
  {
   "cell_type": "code",
   "execution_count": 17,
   "id": "9f094ad6",
   "metadata": {},
   "outputs": [],
   "source": [
    "ingresar_prod = driver.find_element(by=By.XPATH, value=\"//input[contains(@placeholder, 'Encuentra automóviles')]\")\n",
    "ingresar_prod.send_keys(\"chevrolet\")"
   ]
  },
  {
   "cell_type": "code",
   "execution_count": 18,
   "id": "6d4841ff",
   "metadata": {},
   "outputs": [],
   "source": [
    "enviar = driver.find_element(by=By.XPATH, value=\"//div[@data-aut-id='btnSearch']/span\")\n",
    "enviar.click()\n",
    "time.sleep(5)"
   ]
  },
  {
   "cell_type": "markdown",
   "id": "3f61fb5a",
   "metadata": {},
   "source": [
    "### 3. Extraccion de los datos:"
   ]
  },
  {
   "cell_type": "code",
   "execution_count": 19,
   "id": "f2c2f6eb",
   "metadata": {},
   "outputs": [],
   "source": [
    "# lista de los datos obtenidos:\n",
    "datos = list()"
   ]
  },
  {
   "cell_type": "code",
   "execution_count": 20,
   "id": "84c757ec",
   "metadata": {},
   "outputs": [],
   "source": [
    "# Se despliega toda la informacion de la pagina. Esto es, precionando el boton hasta que se despliege todos los productos:\n",
    "boton = driver.find_element(by=By.XPATH, value=\"//button[@data-aut-id='btnLoadMore']\")\n",
    "while True:\n",
    "    try:\n",
    "        boton.click()\n",
    "        time.sleep(random.uniform(8.0, 10.0))\n",
    "        boton = driver.find_element(by=By.XPATH, value=\"//button[@data-aut-id='btnLoadMore']\")\n",
    "    except:\n",
    "        break"
   ]
  },
  {
   "cell_type": "code",
   "execution_count": 21,
   "id": "0c83892a",
   "metadata": {},
   "outputs": [],
   "source": [
    "productos = driver.find_elements(by=By.XPATH, value=\"//li[@data-aut-id='itemBox']\")"
   ]
  },
  {
   "cell_type": "code",
   "execution_count": 22,
   "id": "f694cfca",
   "metadata": {},
   "outputs": [],
   "source": [
    "for producto in productos:\n",
    "    try:\n",
    "        detalle = producto.find_element(by=By.XPATH, value=\".//a//div/span[@data-aut-id='itemDetails']\").text\n",
    "        if \"km\" in detalle:\n",
    "            titulo = producto.find_element(by=By.XPATH, value=\".//a//div/span[@data-aut-id='itemTitle']\").text\n",
    "            precio = producto.find_element(by=By.XPATH, value=\".//a//div/span[@data-aut-id='itemPrice']\").text\n",
    "            ubicacion = producto.find_element(by=By.XPATH, value=\".//a//div/div/span[1]\").text\n",
    "            obj = Vehiculo(titulo, precio, detalle, ubicacion)\n",
    "            datos.append(obj.mostrarVehiculo())\n",
    "    except:\n",
    "        continue"
   ]
  },
  {
   "cell_type": "code",
   "execution_count": 23,
   "id": "4400acfd",
   "metadata": {},
   "outputs": [
    {
     "data": {
      "text/plain": [
       "445"
      ]
     },
     "execution_count": 23,
     "metadata": {},
     "output_type": "execute_result"
    }
   ],
   "source": [
    "len(datos)"
   ]
  },
  {
   "cell_type": "markdown",
   "id": "ba8b9c4b",
   "metadata": {},
   "source": [
    "### 4. Limpieza y trasformacion de los datos:"
   ]
  },
  {
   "cell_type": "code",
   "execution_count": 28,
   "id": "9ffa6df6",
   "metadata": {},
   "outputs": [],
   "source": [
    "lista_productos = list()\n",
    "for dicc in datos:\n",
    "    lista1 = dicc[\"detalle\"].split(\" - \")\n",
    "    lista2 = dicc[\"ubicacion\"].split(\", \")\n",
    "    lista_productos.append({\n",
    "        \"titulo\": dicc[\"titulo\"],\n",
    "        \"precio\": int(dicc[\"precio\"].replace(\"$ \", \"\").replace(\".\", \"\")),\n",
    "        \"generacion\": int(lista1[0]), \n",
    "        \"kilometraje\": float(lista1[1].replace(\" km\", \"\")),\n",
    "        \"ciudad\": lista2[1].lower()\n",
    "    })"
   ]
  },
  {
   "cell_type": "markdown",
   "id": "dae4f605",
   "metadata": {},
   "source": [
    "### 5. Creacion de dataframe:"
   ]
  },
  {
   "cell_type": "code",
   "execution_count": 29,
   "id": "1f7cad9d",
   "metadata": {},
   "outputs": [],
   "source": [
    "olx_df = pd.DataFrame(lista_productos)"
   ]
  },
  {
   "cell_type": "code",
   "execution_count": 30,
   "id": "e77c33c8",
   "metadata": {},
   "outputs": [
    {
     "data": {
      "text/html": [
       "<div>\n",
       "<style scoped>\n",
       "    .dataframe tbody tr th:only-of-type {\n",
       "        vertical-align: middle;\n",
       "    }\n",
       "\n",
       "    .dataframe tbody tr th {\n",
       "        vertical-align: top;\n",
       "    }\n",
       "\n",
       "    .dataframe thead th {\n",
       "        text-align: right;\n",
       "    }\n",
       "</style>\n",
       "<table border=\"1\" class=\"dataframe\">\n",
       "  <thead>\n",
       "    <tr style=\"text-align: right;\">\n",
       "      <th></th>\n",
       "      <th>precio</th>\n",
       "      <th>generacion</th>\n",
       "      <th>kilometraje</th>\n",
       "    </tr>\n",
       "  </thead>\n",
       "  <tbody>\n",
       "    <tr>\n",
       "      <th>count</th>\n",
       "      <td>4.450000e+02</td>\n",
       "      <td>445.000000</td>\n",
       "      <td>445.000000</td>\n",
       "    </tr>\n",
       "    <tr>\n",
       "      <th>mean</th>\n",
       "      <td>4.100272e+07</td>\n",
       "      <td>2011.357303</td>\n",
       "      <td>117.478667</td>\n",
       "    </tr>\n",
       "    <tr>\n",
       "      <th>std</th>\n",
       "      <td>3.342461e+07</td>\n",
       "      <td>8.038224</td>\n",
       "      <td>89.647512</td>\n",
       "    </tr>\n",
       "    <tr>\n",
       "      <th>min</th>\n",
       "      <td>1.010101e+06</td>\n",
       "      <td>1956.000000</td>\n",
       "      <td>0.000000</td>\n",
       "    </tr>\n",
       "    <tr>\n",
       "      <th>25%</th>\n",
       "      <td>2.350000e+07</td>\n",
       "      <td>2008.000000</td>\n",
       "      <td>62.000000</td>\n",
       "    </tr>\n",
       "    <tr>\n",
       "      <th>50%</th>\n",
       "      <td>3.400000e+07</td>\n",
       "      <td>2013.000000</td>\n",
       "      <td>100.000000</td>\n",
       "    </tr>\n",
       "    <tr>\n",
       "      <th>75%</th>\n",
       "      <td>4.600000e+07</td>\n",
       "      <td>2017.000000</td>\n",
       "      <td>148.000000</td>\n",
       "    </tr>\n",
       "    <tr>\n",
       "      <th>max</th>\n",
       "      <td>4.150000e+08</td>\n",
       "      <td>2022.000000</td>\n",
       "      <td>775.700000</td>\n",
       "    </tr>\n",
       "  </tbody>\n",
       "</table>\n",
       "</div>"
      ],
      "text/plain": [
       "             precio   generacion  kilometraje\n",
       "count  4.450000e+02   445.000000   445.000000\n",
       "mean   4.100272e+07  2011.357303   117.478667\n",
       "std    3.342461e+07     8.038224    89.647512\n",
       "min    1.010101e+06  1956.000000     0.000000\n",
       "25%    2.350000e+07  2008.000000    62.000000\n",
       "50%    3.400000e+07  2013.000000   100.000000\n",
       "75%    4.600000e+07  2017.000000   148.000000\n",
       "max    4.150000e+08  2022.000000   775.700000"
      ]
     },
     "execution_count": 30,
     "metadata": {},
     "output_type": "execute_result"
    }
   ],
   "source": [
    "olx_df.describe()"
   ]
  },
  {
   "cell_type": "code",
   "execution_count": 31,
   "id": "5539e9b7",
   "metadata": {},
   "outputs": [],
   "source": [
    "# Exportacion a excel:\n",
    "olx_df.to_excel(f\"olx_chevrolet_{datetime.now().date()}.xlsx\", index=False)"
   ]
  }
 ],
 "metadata": {
  "kernelspec": {
   "display_name": "Python 3 (ipykernel)",
   "language": "python",
   "name": "python3"
  },
  "language_info": {
   "codemirror_mode": {
    "name": "ipython",
    "version": 3
   },
   "file_extension": ".py",
   "mimetype": "text/x-python",
   "name": "python",
   "nbconvert_exporter": "python",
   "pygments_lexer": "ipython3",
   "version": "3.9.16"
  }
 },
 "nbformat": 4,
 "nbformat_minor": 5
}
